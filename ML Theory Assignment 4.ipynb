{
 "cells": [
  {
   "cell_type": "code",
   "execution_count": null,
   "id": "a5692111",
   "metadata": {},
   "outputs": [],
   "source": [
    "#ML Theory Assignment 4"
   ]
  },
  {
   "cell_type": "markdown",
   "id": "0a7cbf5d",
   "metadata": {},
   "source": [
    "1.What are the key tasks involved in getting ready to work with machine learning modeling?"
   ]
  },
  {
   "cell_type": "code",
   "execution_count": null,
   "id": "1b2f4b3e",
   "metadata": {},
   "outputs": [],
   "source": [
    "# 1) Data Collection\n",
    "# 2) Data preparation and cleaning\n",
    "# 3) Model building\n",
    "# 4) Model Training and evaluation\n",
    "# 5) parameter estimation and testing"
   ]
  },
  {
   "cell_type": "markdown",
   "id": "1a9800f9",
   "metadata": {},
   "source": [
    "2.What are the different forms of data used in machine learning? Give a specific example for each of\n",
    "them."
   ]
  },
  {
   "cell_type": "code",
   "execution_count": null,
   "id": "87def02b",
   "metadata": {},
   "outputs": [],
   "source": [
    "# Machine learning algorithms at their core operate on numeric data.\n",
    "# They take numbers as input and predict a number as output. \n",
    "# All data is seen as vectors and matrices, using the terminology from linear algebra\n"
   ]
  },
  {
   "cell_type": "markdown",
   "id": "bfe467a7",
   "metadata": {},
   "source": [
    "3.Distinguish:\n",
    "1)Numeric vs. categorical attributes\n",
    "2)Feature selection vs. dimensionality reduction"
   ]
  },
  {
   "cell_type": "code",
   "execution_count": null,
   "id": "501d69b1",
   "metadata": {},
   "outputs": [],
   "source": [
    "# 1) \n",
    "# Categorical data is a type of data that is used to group information with similar characteristics.\n",
    "# Numerical data is a type of data that expresses information in the form of numbers.\n",
    "\n",
    "# 2) \n",
    "# Feature selection is simply selecting and excluding given features without changing them.\n",
    "# Dimensionality reduction transforms features into lower dimensions."
   ]
  },
  {
   "cell_type": "markdown",
   "id": "d1019502",
   "metadata": {},
   "source": [
    "4.Make quick notes on any two of the following:\n",
    "1)The histogram\n",
    "2)Use a scatter plot\n",
    "3)PCA (Personal Computer Aid)"
   ]
  },
  {
   "cell_type": "code",
   "execution_count": null,
   "id": "b1f6e616",
   "metadata": {},
   "outputs": [],
   "source": [
    "# A histogram is a graphical representation that organizes a group of data points into user-specified ranges. \n",
    "# Similar in appearance to a bar graph, the histogram condenses a data series into an easily interpreted visual \n",
    "# by taking many data points and grouping them into logical ranges or bins.\n",
    "\n",
    "# A scatter plot (aka scatter chart, scatter graph) uses dots to represent values for two different numeric variables\n",
    "# The position of each dot on the horizontal and vertical axis indicates values for an individual data point. \n",
    "# Scatter plots are used to observe relationships between variables."
   ]
  },
  {
   "cell_type": "markdown",
   "id": "d43afa36",
   "metadata": {},
   "source": [
    "5.Why is it necessary to investigate data? Is there a discrepancy in how qualitative and quantitative\n",
    "data are explored?"
   ]
  },
  {
   "cell_type": "code",
   "execution_count": null,
   "id": "dae6277f",
   "metadata": {},
   "outputs": [],
   "source": [
    "# Quantitative data deals with numbers and statistics, while qualitative data deals with words and meanings.\n",
    "# Quantitative methods allow you to systematically measure variables and test hypotheses.\n",
    "# Qualitative methods allow you to explore concepts and experiences in more detail."
   ]
  },
  {
   "cell_type": "markdown",
   "id": "125ae0a4",
   "metadata": {},
   "source": [
    "6.What are the various histogram shapes? What exactly are 'bins'?"
   ]
  },
  {
   "cell_type": "code",
   "execution_count": null,
   "id": "f080b602",
   "metadata": {},
   "outputs": [],
   "source": [
    "# Bins are the numerical ranges into which you'll group the data. In presentation histograms, your bins should all\n",
    "# be the same size and should encompass all of the data. In addition the boundaries should generally occur at nice\n",
    "# round numbers. To choose the bin sizes, first find the smallest and largest data point."
   ]
  },
  {
   "cell_type": "markdown",
   "id": "f8e6d249",
   "metadata": {},
   "source": [
    "7.How do we deal with data outliers?"
   ]
  },
  {
   "cell_type": "code",
   "execution_count": null,
   "id": "92ec9f3f",
   "metadata": {},
   "outputs": [],
   "source": [
    "# Data outliers are either dropped out of the data.\n",
    "# Or else, transformation can be perofrmed on these values."
   ]
  },
  {
   "cell_type": "markdown",
   "id": "91018adf",
   "metadata": {},
   "source": [
    "8.What are the various central inclination measures? Why does mean vary too much from median in\n",
    "certain data sets?"
   ]
  },
  {
   "cell_type": "code",
   "execution_count": null,
   "id": "22131969",
   "metadata": {},
   "outputs": [],
   "source": [
    "# The mean is the arithmetic average of a set of numbers, or distribution. It is the most commonly used measure of\n",
    "# central tendency of a set of numbers. A mean is computed by adding up all the values and dividing that score \n",
    "# by the number of values. The Median is the number found at the exact middle of the set of values.\n",
    "# So, for the case, where the data has a lot of outliers(or the data is skewed), the mean will differ a lot from the median."
   ]
  },
  {
   "cell_type": "markdown",
   "id": "fa487c02",
   "metadata": {},
   "source": [
    "9.Describe how a scatter plot can be used to investigate bivariate relationships. Is it possible to find\n",
    "outliers using a scatter plot?"
   ]
  },
  {
   "cell_type": "code",
   "execution_count": null,
   "id": "6f1034e3",
   "metadata": {},
   "outputs": [],
   "source": [
    "# The scatter diagram graphs pairs of numerical data, with one variable on each axis, to look for a relationship\n",
    "# between them. If the variables are correlated, the points will fall along a line or curve. The better the\n",
    "# correlation, the tighter the points will hug the line.\n",
    "# If there is a regression line on a scatter plot, you can identify outliers."
   ]
  },
  {
   "cell_type": "markdown",
   "id": "dd6c8113",
   "metadata": {},
   "source": [
    "10.Describe how cross-tabs can be used to figure out how two variables are related."
   ]
  },
  {
   "cell_type": "code",
   "execution_count": null,
   "id": "0bd7ce02",
   "metadata": {},
   "outputs": [],
   "source": [
    "# To describe the relationship between two categorical variables, we use a special type of table called a \n",
    "# cross-tabulation (or \"crosstab\" for short). In a cross-tabulation, the categories of one variable determine\n",
    "# the rows of the table, and the categories of the other variable determine the columns."
   ]
  }
 ],
 "metadata": {
  "kernelspec": {
   "display_name": "Python 3 (ipykernel)",
   "language": "python",
   "name": "python3"
  },
  "language_info": {
   "codemirror_mode": {
    "name": "ipython",
    "version": 3
   },
   "file_extension": ".py",
   "mimetype": "text/x-python",
   "name": "python",
   "nbconvert_exporter": "python",
   "pygments_lexer": "ipython3",
   "version": "3.9.7"
  }
 },
 "nbformat": 4,
 "nbformat_minor": 5
}
